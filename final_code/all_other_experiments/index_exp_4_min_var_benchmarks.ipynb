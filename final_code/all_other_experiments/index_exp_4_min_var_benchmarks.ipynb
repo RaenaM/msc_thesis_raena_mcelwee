{
 "cells": [
  {
   "cell_type": "code",
   "execution_count": 1,
   "metadata": {},
   "outputs": [],
   "source": [
    "import sys\n",
    "sys.path.insert(1, 'C:/Users/raena/Documents/Imperial College London/msc_thesis/code/functions_and_classes')\n",
    "\n",
    "from dataRead import *\n",
    "from glob import glob\n",
    "import pandas as pd\n",
    "import numpy as np"
   ]
  },
  {
   "cell_type": "markdown",
   "metadata": {},
   "source": [
    "## Index Period 4\n",
    "\n",
    "Backtest:\n",
    "* Jan 2017 - Dec 2022\n",
    "* Major event: Covid-19 pandemic"
   ]
  },
  {
   "cell_type": "code",
   "execution_count": 2,
   "metadata": {},
   "outputs": [],
   "source": [
    "# Get DJI Index weights data per quarter\n",
    "\n",
    "DJI_weights_paths = glob('../../data/dataBBG/DJI_index_weights/DJI_*.pickle')\n",
    "DJI_weights_per_quarter = {}\n",
    "for path in DJI_weights_paths:\n",
    "    date = path.split('.')[-2].split('_')[-1]\n",
    "    DJI_weights_per_quarter[date] = pd.read_pickle(path)\n",
    "\n",
    "# Import price and volume data for each stock in the DJI Index\n",
    "DJI_PX_LAST_paths = glob('../../data/dataBBG/DJI_stock_PX_LAST/* Equity.pickle')\n",
    "DJI_PX_VOLUME_paths = glob('../../data/dataBBG/DJI_stock_PX_VOLUME/* Equity.pickle')\n",
    "\n",
    "DJI_price_data = {}\n",
    "DJI_volume_data = {}\n",
    "\n",
    "for path in DJI_PX_LAST_paths:\n",
    "    ticker = (' ').join(path.split('.')[-2].split('\\\\')[-1].split(' ')[0:1])\n",
    "    # if ticker == '3277Q UN': # JP Morgan\n",
    "    #     path = '../../data/dataBBG/DJI_stock_PX_LAST/JPM UN Equity.pickle'\n",
    "    df = pd.read_pickle(path).set_index('date')\n",
    "    df.index = pd.to_datetime(df.index)\n",
    "    DJI_price_data[ticker] = df\n",
    "\n",
    "for path in DJI_PX_VOLUME_paths:\n",
    "    ticker = (' ').join(path.split('.')[-2].split('\\\\')[-1].split(' ')[0:1])\n",
    "    df = pd.read_pickle(path).set_index('date')\n",
    "    df.index = pd.to_datetime(df.index)\n",
    "    # df.index = pd.to_datetime(df.index)\n",
    "    DJI_volume_data[ticker] = df\n",
    "\n",
    "trading_days = pd.to_datetime(list(DJI_price_data['AAPL'].index))"
   ]
  },
  {
   "cell_type": "code",
   "execution_count": 3,
   "metadata": {},
   "outputs": [],
   "source": [
    "start_day = '2017-01-01'\n",
    "end_day = '2022-12-31'\n",
    "start_day_count = np.where(trading_days >= start_day)[0][0]\n",
    "end_day_count = np.where(trading_days <= end_day)[0][-1]"
   ]
  },
  {
   "cell_type": "code",
   "execution_count": 4,
   "metadata": {},
   "outputs": [],
   "source": [
    "windowOptions = [20,30,60]\n",
    "\n",
    "validation_start_day = '2022-01-01'\n",
    "validation_end_day = end_day\n",
    "validation_start_day_count = np.where(trading_days >= validation_start_day)[0][0]\n",
    "validation_end_day_count = np.where(trading_days <= validation_end_day)[0][-1]"
   ]
  },
  {
   "cell_type": "code",
   "execution_count": 5,
   "metadata": {},
   "outputs": [],
   "source": [
    "performance_metrics = ['Annual. Returns',\n",
    "                    'Annual. Stand. Dev',\n",
    "                    'Annual. Skew',\n",
    "                    'Annual. Kurtosis',\n",
    "                    'Total Returns',\n",
    "                    'Arith. Returns',\n",
    "                    'Geom. Returns',\n",
    "                    'Sharpe Ratio',\n",
    "                    'Max. Drawdown',\n",
    "                    'Annual. Turnover',\n",
    "                    'VaR']"
   ]
  },
  {
   "cell_type": "code",
   "execution_count": 6,
   "metadata": {},
   "outputs": [
    {
     "name": "stderr",
     "output_type": "stream",
     "text": [
      "C:\\Users\\raena\\AppData\\Local\\Packages\\PythonSoftwareFoundation.Python.3.10_qbz5n2kfra8p0\\LocalCache\\local-packages\\Python310\\site-packages\\tqdm\\auto.py:21: TqdmWarning: IProgress not found. Please update jupyter and ipywidgets. See https://ipywidgets.readthedocs.io/en/stable/user_install.html\n",
      "  from .autonotebook import tqdm as notebook_tqdm\n",
      "100%|██████████| 249/249 [00:12<00:00, 20.22it/s]\n",
      "100%|██████████| 249/249 [00:04<00:00, 50.27it/s]\n"
     ]
    },
    {
     "name": "stdout",
     "output_type": "stream",
     "text": [
      "\n",
      "\n"
     ]
    },
    {
     "name": "stderr",
     "output_type": "stream",
     "text": [
      "100%|██████████| 249/249 [00:12<00:00, 19.33it/s]\n",
      "100%|██████████| 249/249 [00:04<00:00, 51.56it/s]\n"
     ]
    },
    {
     "name": "stdout",
     "output_type": "stream",
     "text": [
      "\n",
      "\n"
     ]
    },
    {
     "name": "stderr",
     "output_type": "stream",
     "text": [
      "100%|██████████| 249/249 [00:12<00:00, 19.66it/s]\n",
      "100%|██████████| 249/249 [00:04<00:00, 53.34it/s]"
     ]
    },
    {
     "name": "stdout",
     "output_type": "stream",
     "text": [
      "\n",
      "\n"
     ]
    },
    {
     "name": "stderr",
     "output_type": "stream",
     "text": [
      "\n"
     ]
    }
   ],
   "source": [
    "from priceVolumeIndexStrategyMinVariance import *\n",
    "\n",
    "validationResultsDict = {}\n",
    "performanceResults = {}\n",
    "\n",
    "for windowSize in windowOptions:\n",
    "    # 20, 30, 60\n",
    "    start = validation_start_day_count - (windowSize + 1)\n",
    "    end = validation_end_day_count\n",
    "    trading_days_subset = trading_days[start:end]\n",
    "    \n",
    "    sInst = PriceVolumeIndexMinVarStrategy(\n",
    "                indexDict = DJI_weights_per_quarter,\n",
    "                trading_days = trading_days_subset,\n",
    "                priceDict = DJI_price_data,    \n",
    "                volumeDict = DJI_volume_data,\n",
    "                lookbackWindow = windowSize,\n",
    "                numberOfMembers = 30,\n",
    "                factor = 252.0)\n",
    "    sInst = sInst.getStrategyWeights(\n",
    "        methods = ['HIS','LW', 'IDN'])\n",
    "\n",
    "    b = sInst.backtestStrategy()\n",
    "    \n",
    "    methodList = list(b[windowSize+1].keys())\n",
    "    methodDict = {'Portfolio Returns': {}, 'Portfolio Value': {}, 'Volume Bought': {}, 'Volume Sold' : {}}\n",
    "    for method in methodList:\n",
    "        methodDict['Portfolio Returns'][method] = pd.DataFrame([b[k][method] for k in b.keys()])['Portfolio Returns']\n",
    "        methodDict['Portfolio Value'][method] = pd.DataFrame([b[k][method] for k in b.keys()])['Portfolio Value']\n",
    "        methodDict['Volume Bought'][method] = pd.DataFrame([b[k][method] for k in b.keys()])['Volume Bought']\n",
    "        methodDict['Volume Sold'][method] = pd.DataFrame([b[k][method] for k in b.keys()])['Volume Sold']\n",
    "\n",
    "    # validationResultsDict[key] = methodDict\n",
    "\n",
    "    for method in methodList:\n",
    "        meth = method\n",
    "        retS = methodDict['Portfolio Returns'][meth]\n",
    "        dateIndex = trading_days_subset[-retS.shape[0]:]\n",
    "        retS.index = dateIndex\n",
    "        valS = methodDict['Portfolio Value'][meth]\n",
    "        valS.index = dateIndex\n",
    "        volBS = methodDict['Volume Bought'][meth]\n",
    "        volBS.index = dateIndex\n",
    "        volSS = methodDict['Volume Sold'][meth]\n",
    "        volSS.index = dateIndex\n",
    "\n",
    "        from performanceAnalysis import *\n",
    "        perfInst = PerformanceAnalysis(portfolioReturns = retS,\n",
    "                                    portfolioValue = valS,\n",
    "                                    volBought = volBS,\n",
    "                                    volSold = volSS,\n",
    "                                    factor = 252.0)\n",
    "        perfRes = perfInst.metricSeries(rf = 0)\n",
    "        key = method + '_' + str(windowSize)\n",
    "        performanceResults[key] = {met : {} for met in performance_metrics}\n",
    "        for metric in performance_metrics:\n",
    "            performanceResults[key][metric] = perfRes.loc[metric]\n",
    "\n",
    "    print('\\n')"
   ]
  },
  {
   "cell_type": "code",
   "execution_count": 7,
   "metadata": {},
   "outputs": [
    {
     "name": "stdout",
     "output_type": "stream",
     "text": [
      "\\begin{tabular}{lrrr}\n",
      " & Annual. Stand. Dev & Max. Drawdown & VaR \\\\\n",
      "HIS_20 & 0.1686 & -0.2013 & -0.0168 \\\\\n",
      "LW_20 & 0.1554 & -0.1847 & -0.0163 \\\\\n",
      "IDN_20 & 0.2005 & -0.2289 & -0.0223 \\\\\n",
      "HIS_30 & 0.1586 & -0.1694 & -0.0161 \\\\\n",
      "LW_30 & 0.1537 & -0.1663 & -0.0158 \\\\\n",
      "IDN_30 & 0.2005 & -0.2289 & -0.0223 \\\\\n",
      "HIS_60 & 0.1542 & -0.2093 & -0.0163 \\\\\n",
      "LW_60 & 0.1522 & -0.2118 & -0.0155 \\\\\n",
      "IDN_60 & 0.2005 & -0.2289 & -0.0223 \\\\\n",
      "\\end{tabular}\n",
      "\n"
     ]
    }
   ],
   "source": [
    "pRes1 = pd.DataFrame(performanceResults).T[['Annual. Stand. Dev', 'Max. Drawdown', 'VaR']]\n",
    "pRes1 = pRes1.style.format(precision = 4)\n",
    "print('\\n'.join(str(pRes1.to_latex()).split('\\n')))"
   ]
  },
  {
   "cell_type": "code",
   "execution_count": 8,
   "metadata": {},
   "outputs": [],
   "source": [
    "# fp = '../../code/min_variance/'\n",
    "# fname = \"period_4_\" + str(windowOptions[0])\n",
    "# pd.DataFrame(performanceResults).to_pickle(f'{fp}/{fname}.pickle')"
   ]
  },
  {
   "cell_type": "code",
   "execution_count": 9,
   "metadata": {},
   "outputs": [],
   "source": [
    "from pyfinance import TSeries\n",
    "\n",
    "a = pd.Series(TSeries((DJI_price_data['AAPL'])['PX_LAST']).rollup('M'))\n"
   ]
  }
 ],
 "metadata": {
  "kernelspec": {
   "display_name": "Python 3",
   "language": "python",
   "name": "python3"
  },
  "language_info": {
   "codemirror_mode": {
    "name": "ipython",
    "version": 3
   },
   "file_extension": ".py",
   "mimetype": "text/x-python",
   "name": "python",
   "nbconvert_exporter": "python",
   "pygments_lexer": "ipython3",
   "version": "3.10.11"
  },
  "orig_nbformat": 4
 },
 "nbformat": 4,
 "nbformat_minor": 2
}
