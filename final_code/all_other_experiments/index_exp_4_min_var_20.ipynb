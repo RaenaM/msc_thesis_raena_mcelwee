{
 "cells": [
  {
   "cell_type": "code",
   "execution_count": 1,
   "metadata": {},
   "outputs": [],
   "source": [
    "import sys\n",
    "sys.path.insert(1, 'C:/Users/raena/Documents/Imperial College London/msc_thesis/code/functions_and_classes')\n",
    "\n",
    "from dataRead import *\n",
    "from glob import glob\n",
    "import pandas as pd\n",
    "import numpy as np"
   ]
  },
  {
   "cell_type": "markdown",
   "metadata": {},
   "source": [
    "## Index Period 4\n",
    "\n",
    "Backtest:\n",
    "* Jan 2017 - Dec 2022\n",
    "* Major event: Covid-19 pandemic"
   ]
  },
  {
   "cell_type": "code",
   "execution_count": 2,
   "metadata": {},
   "outputs": [],
   "source": [
    "# Get DJI Index weights data per quarter\n",
    "\n",
    "DJI_weights_paths = glob('../../data/dataBBG/DJI_index_weights/DJI_*.pickle')\n",
    "DJI_weights_per_quarter = {}\n",
    "for path in DJI_weights_paths:\n",
    "    date = path.split('.')[-2].split('_')[-1]\n",
    "    DJI_weights_per_quarter[date] = pd.read_pickle(path)\n",
    "\n",
    "# Import price and volume data for each stock in the DJI Index\n",
    "DJI_PX_LAST_paths = glob('../../data/dataBBG/DJI_stock_PX_LAST/* Equity.pickle')\n",
    "DJI_PX_VOLUME_paths = glob('../../data/dataBBG/DJI_stock_PX_VOLUME/* Equity.pickle')\n",
    "\n",
    "DJI_price_data = {}\n",
    "DJI_volume_data = {}\n",
    "\n",
    "for path in DJI_PX_LAST_paths:\n",
    "    ticker = (' ').join(path.split('.')[-2].split('\\\\')[-1].split(' ')[0:1])\n",
    "    # if ticker == '3277Q UN': # JP Morgan\n",
    "    #     path = '../../data/dataBBG/DJI_stock_PX_LAST/JPM UN Equity.pickle'\n",
    "    df = pd.read_pickle(path).set_index('date')\n",
    "    df.index = pd.to_datetime(df.index)\n",
    "    DJI_price_data[ticker] = df\n",
    "\n",
    "for path in DJI_PX_VOLUME_paths:\n",
    "    ticker = (' ').join(path.split('.')[-2].split('\\\\')[-1].split(' ')[0:1])\n",
    "    df = pd.read_pickle(path).set_index('date')\n",
    "    df.index = pd.to_datetime(df.index)\n",
    "    # df.index = pd.to_datetime(df.index)\n",
    "    DJI_volume_data[ticker] = df\n",
    "\n",
    "trading_days = pd.to_datetime(list(DJI_price_data['AAPL'].index))"
   ]
  },
  {
   "cell_type": "code",
   "execution_count": 3,
   "metadata": {},
   "outputs": [],
   "source": [
    "start_day = '2017-01-01'\n",
    "end_day = '2022-12-31'\n",
    "start_day_count = np.where(trading_days >= start_day)[0][0]\n",
    "end_day_count = np.where(trading_days <= end_day)[0][-1]"
   ]
  },
  {
   "cell_type": "code",
   "execution_count": 4,
   "metadata": {},
   "outputs": [],
   "source": [
    "returnThresholdOptions = np.arange(10,40,step=5)/100\n",
    "volumeThresholdOptions = np.arange(-40,50,step=10)/100\n",
    "windowOptions = [20]\n",
    "\n",
    "threshold_list = [{'returns' : cR, 'volume': cV} for cR in returnThresholdOptions for cV in volumeThresholdOptions]\n",
    "thresholdvalues = {'GS1': threshold_list, 'GS2': threshold_list}\n",
    "\n",
    "validation_start_day = '2022-01-01'\n",
    "validation_end_day = end_day\n",
    "validation_start_day_count = np.where(trading_days >= validation_start_day)[0][0]\n",
    "validation_end_day_count = np.where(trading_days <= validation_end_day)[0][-1]\n",
    "\n",
    "performance_metrics = ['Annual. Returns',\n",
    "                    'Annual. Stand. Dev',\n",
    "                    'Annual. Skew',\n",
    "                    'Annual. Kurtosis',\n",
    "                    'Total Returns',\n",
    "                    'Arith. Returns',\n",
    "                    'Geom. Returns',\n",
    "                    'Sharpe Ratio',\n",
    "                    'Max. Drawdown',\n",
    "                    'Annual. Turnover',\n",
    "                    'VaR']"
   ]
  },
  {
   "cell_type": "code",
   "execution_count": 5,
   "metadata": {},
   "outputs": [
    {
     "name": "stderr",
     "output_type": "stream",
     "text": [
      "C:\\Users\\raena\\AppData\\Local\\Packages\\PythonSoftwareFoundation.Python.3.10_qbz5n2kfra8p0\\LocalCache\\local-packages\\Python310\\site-packages\\tqdm\\auto.py:21: TqdmWarning: IProgress not found. Please update jupyter and ipywidgets. See https://ipywidgets.readthedocs.io/en/stable/user_install.html\n",
      "  from .autonotebook import tqdm as notebook_tqdm\n",
      " 22%|██▏       | 55/249 [14:39<47:53, 14.81s/it]  C:\\Users/raena/Documents/Imperial College London/msc_thesis/code/functions_and_classes\\covarianceMatrixVolume.py:61: RuntimeWarning: invalid value encountered in divide\n",
      "  corG = H / np.dot(h, h.T) # correlation matrix\n",
      "C:\\Users/raena/Documents/Imperial College London/msc_thesis/code/functions_and_classes\\covarianceMatrixVolume.py:88: RuntimeWarning: invalid value encountered in divide\n",
      "  corG = H/(T - nNN) # correlation matrix\n",
      "100%|██████████| 249/249 [1:02:28<00:00, 15.06s/it]\n",
      "100%|██████████| 249/249 [03:25<00:00,  1.21it/s]\n"
     ]
    },
    {
     "name": "stdout",
     "output_type": "stream",
     "text": [
      "\n",
      "\n"
     ]
    }
   ],
   "source": [
    "from priceVolumeIndexStrategyMinVariance import *\n",
    "\n",
    "validationResultsDict = {}\n",
    "performanceResults = {}\n",
    "\n",
    "for windowSize in windowOptions:\n",
    "    # 252\n",
    "    start = validation_start_day_count - (windowSize + 1)\n",
    "    end = validation_end_day_count\n",
    "    trading_days_subset = trading_days[start:end]\n",
    "    \n",
    "    sInst = PriceVolumeIndexMinVarStrategy(\n",
    "                indexDict = DJI_weights_per_quarter,\n",
    "                trading_days = trading_days_subset,\n",
    "                priceDict = DJI_price_data,    \n",
    "                volumeDict = DJI_volume_data,\n",
    "                lookbackWindow = windowSize,\n",
    "                numberOfMembers = 30,\n",
    "                factor = 252.0)\n",
    "    sInst = sInst.getStrategyWeights(\n",
    "        methods = ['GS1','GS2'],\n",
    "        thresholdvalues = thresholdvalues)\n",
    "\n",
    "    b = sInst.backtestStrategy()\n",
    "    \n",
    "    methodList = list(b[windowSize+1].keys())\n",
    "    methodDict = {'Portfolio Returns': {}, 'Portfolio Value': {}, 'Volume Bought': {}, 'Volume Sold' : {}}\n",
    "    for method in methodList:\n",
    "        methodDict['Portfolio Returns'][method] = pd.DataFrame([b[k][method] for k in b.keys()])['Portfolio Returns']\n",
    "        methodDict['Portfolio Value'][method] = pd.DataFrame([b[k][method] for k in b.keys()])['Portfolio Value']\n",
    "        methodDict['Volume Bought'][method] = pd.DataFrame([b[k][method] for k in b.keys()])['Volume Bought']\n",
    "        methodDict['Volume Sold'][method] = pd.DataFrame([b[k][method] for k in b.keys()])['Volume Sold']\n",
    "\n",
    "    # validationResultsDict[key] = methodDict\n",
    "\n",
    "    for method in methodList:\n",
    "        meth = method\n",
    "        retS = methodDict['Portfolio Returns'][meth]\n",
    "        dateIndex = trading_days_subset[-retS.shape[0]:]\n",
    "        retS.index = dateIndex\n",
    "        valS = methodDict['Portfolio Value'][meth]\n",
    "        valS.index = dateIndex\n",
    "        volBS = methodDict['Volume Bought'][meth]\n",
    "        volBS.index = dateIndex\n",
    "        volSS = methodDict['Volume Sold'][meth]\n",
    "        volSS.index = dateIndex\n",
    "\n",
    "        from performanceAnalysis import *\n",
    "        perfInst = PerformanceAnalysis(portfolioReturns = retS,\n",
    "                                    portfolioValue = valS,\n",
    "                                    volBought = volBS,\n",
    "                                    volSold = volSS,\n",
    "                                    factor = 252.0)\n",
    "        perfRes = perfInst.metricSeries(rf = 0)\n",
    "        performanceResults[method] = {met : {} for met in performance_metrics}\n",
    "        for metric in performance_metrics:\n",
    "            performanceResults[method][metric] = perfRes.loc[metric]\n",
    "\n",
    "    print('\\n')"
   ]
  },
  {
   "cell_type": "code",
   "execution_count": 6,
   "metadata": {},
   "outputs": [],
   "source": [
    "fp = '../../code/min_variance/'\n",
    "fname = \"period_4_\" + str(windowOptions[0])\n",
    "pd.DataFrame(performanceResults).to_pickle(f'{fp}/{fname}.pickle')"
   ]
  },
  {
   "cell_type": "code",
   "execution_count": 7,
   "metadata": {},
   "outputs": [
    {
     "data": {
      "text/plain": [
       "GS2_0.2_-0.2     0.161014\n",
       "GS2_0.15_-0.2    0.161135\n",
       "GS2_0.25_-0.2    0.161280\n",
       "GS2_0.1_-0.2     0.161662\n",
       "GS2_0.3_-0.2     0.162097\n",
       "                   ...   \n",
       "GS1_0.1_0.4      0.175703\n",
       "GS1_0.35_0.4     0.175807\n",
       "GS1_0.2_0.4      0.176182\n",
       "GS1_0.15_0.4     0.176728\n",
       "GS1_0.3_0.4      0.176793\n",
       "Name: Annual. Stand. Dev, Length: 108, dtype: float64"
      ]
     },
     "execution_count": 7,
     "metadata": {},
     "output_type": "execute_result"
    }
   ],
   "source": [
    "pd.DataFrame(performanceResults).loc['Annual. Stand. Dev'].sort_values()"
   ]
  }
 ],
 "metadata": {
  "kernelspec": {
   "display_name": "Python 3",
   "language": "python",
   "name": "python3"
  },
  "language_info": {
   "codemirror_mode": {
    "name": "ipython",
    "version": 3
   },
   "file_extension": ".py",
   "mimetype": "text/x-python",
   "name": "python",
   "nbconvert_exporter": "python",
   "pygments_lexer": "ipython3",
   "version": "3.10.11"
  },
  "orig_nbformat": 4
 },
 "nbformat": 4,
 "nbformat_minor": 2
}
